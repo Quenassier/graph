{
  "metadata": {
    "kernelspec": {
      "name": "python",
      "display_name": "Python (Pyodide)",
      "language": "python"
    },
    "language_info": {
      "codemirror_mode": {
        "name": "python",
        "version": 3
      },
      "file_extension": ".py",
      "mimetype": "text/x-python",
      "name": "python",
      "nbconvert_exporter": "python",
      "pygments_lexer": "ipython3",
      "version": "3.8"
    }
  },
  "nbformat_minor": 5,
  "nbformat": 4,
  "cells": [
    {
      "cell_type": "code",
      "source": "import pandas as pd\nimport numpy as np\nfrom matplotlib import pyplot as plt\ndf = pd.read_csv('AAP_data.csv')\n\ndf\n    ",
      "metadata": {
        "trusted": true
      },
      "execution_count": 24,
      "outputs": [
        {
          "execution_count": 24,
          "output_type": "execute_result",
          "data": {
            "text/plain": "            date    open      high       low   close   volume Name\n0     2013-02-08   78.34   79.7200   78.0100   78.90  1298137  AAP\n1     2013-02-11   78.65   78.9100   77.2300   78.39   758016  AAP\n2     2013-02-12   78.39   78.6300   77.5132   78.60   876859  AAP\n3     2013-02-13   78.90   79.1300   77.8500   78.97  1038574  AAP\n4     2013-02-14   78.66   79.7200   78.5850   78.84  1005376  AAP\n...          ...     ...       ...       ...     ...      ...  ...\n1254  2018-02-01  116.24  118.8300  115.8300  117.29   760629  AAP\n1255  2018-02-02  115.92  117.1800  113.1250  113.93  1092333  AAP\n1256  2018-02-05  113.05  114.9700  109.8100  109.86  1281592  AAP\n1257  2018-02-06  108.28  113.1100  106.7450  112.20  1240784  AAP\n1258  2018-02-07  112.09  114.5799  109.9000  109.93  2163545  AAP\n\n[1259 rows x 7 columns]",
            "text/html": "<div>\n<style scoped>\n    .dataframe tbody tr th:only-of-type {\n        vertical-align: middle;\n    }\n\n    .dataframe tbody tr th {\n        vertical-align: top;\n    }\n\n    .dataframe thead th {\n        text-align: right;\n    }\n</style>\n<table border=\"1\" class=\"dataframe\">\n  <thead>\n    <tr style=\"text-align: right;\">\n      <th></th>\n      <th>date</th>\n      <th>open</th>\n      <th>high</th>\n      <th>low</th>\n      <th>close</th>\n      <th>volume</th>\n      <th>Name</th>\n    </tr>\n  </thead>\n  <tbody>\n    <tr>\n      <th>0</th>\n      <td>2013-02-08</td>\n      <td>78.34</td>\n      <td>79.7200</td>\n      <td>78.0100</td>\n      <td>78.90</td>\n      <td>1298137</td>\n      <td>AAP</td>\n    </tr>\n    <tr>\n      <th>1</th>\n      <td>2013-02-11</td>\n      <td>78.65</td>\n      <td>78.9100</td>\n      <td>77.2300</td>\n      <td>78.39</td>\n      <td>758016</td>\n      <td>AAP</td>\n    </tr>\n    <tr>\n      <th>2</th>\n      <td>2013-02-12</td>\n      <td>78.39</td>\n      <td>78.6300</td>\n      <td>77.5132</td>\n      <td>78.60</td>\n      <td>876859</td>\n      <td>AAP</td>\n    </tr>\n    <tr>\n      <th>3</th>\n      <td>2013-02-13</td>\n      <td>78.90</td>\n      <td>79.1300</td>\n      <td>77.8500</td>\n      <td>78.97</td>\n      <td>1038574</td>\n      <td>AAP</td>\n    </tr>\n    <tr>\n      <th>4</th>\n      <td>2013-02-14</td>\n      <td>78.66</td>\n      <td>79.7200</td>\n      <td>78.5850</td>\n      <td>78.84</td>\n      <td>1005376</td>\n      <td>AAP</td>\n    </tr>\n    <tr>\n      <th>...</th>\n      <td>...</td>\n      <td>...</td>\n      <td>...</td>\n      <td>...</td>\n      <td>...</td>\n      <td>...</td>\n      <td>...</td>\n    </tr>\n    <tr>\n      <th>1254</th>\n      <td>2018-02-01</td>\n      <td>116.24</td>\n      <td>118.8300</td>\n      <td>115.8300</td>\n      <td>117.29</td>\n      <td>760629</td>\n      <td>AAP</td>\n    </tr>\n    <tr>\n      <th>1255</th>\n      <td>2018-02-02</td>\n      <td>115.92</td>\n      <td>117.1800</td>\n      <td>113.1250</td>\n      <td>113.93</td>\n      <td>1092333</td>\n      <td>AAP</td>\n    </tr>\n    <tr>\n      <th>1256</th>\n      <td>2018-02-05</td>\n      <td>113.05</td>\n      <td>114.9700</td>\n      <td>109.8100</td>\n      <td>109.86</td>\n      <td>1281592</td>\n      <td>AAP</td>\n    </tr>\n    <tr>\n      <th>1257</th>\n      <td>2018-02-06</td>\n      <td>108.28</td>\n      <td>113.1100</td>\n      <td>106.7450</td>\n      <td>112.20</td>\n      <td>1240784</td>\n      <td>AAP</td>\n    </tr>\n    <tr>\n      <th>1258</th>\n      <td>2018-02-07</td>\n      <td>112.09</td>\n      <td>114.5799</td>\n      <td>109.9000</td>\n      <td>109.93</td>\n      <td>2163545</td>\n      <td>AAP</td>\n    </tr>\n  </tbody>\n</table>\n<p>1259 rows × 7 columns</p>\n</div>"
          },
          "metadata": {}
        }
      ],
      "id": "2f9001c9-ac8d-49d3-87b4-cb5721b803f3"
    },
    {
      "cell_type": "code",
      "source": "df.describe ()",
      "metadata": {
        "trusted": true
      },
      "execution_count": 18,
      "outputs": [
        {
          "execution_count": 18,
          "output_type": "execute_result",
          "data": {
            "text/plain": "              open         high          low        close        volume\ncount  1259.000000  1259.000000  1259.000000  1259.000000  1.259000e+03\nmean    132.439631   133.818297   131.036025   132.433463  1.078043e+06\nstd      31.269628    31.545809    30.968405    31.274463  1.019365e+06\nmin      76.040000    76.660000    75.623000    76.180000  1.307120e+05\n25%     104.070000   105.724950   102.260000   104.440000  6.182010e+05\n50%     141.150000   143.000000   139.405000   141.300000  8.491350e+05\n75%     156.980000   158.270000   155.320000   156.730000  1.219762e+06\nmax     201.240000   201.240000   198.160000   200.380000  1.974952e+07",
            "text/html": "<div>\n<style scoped>\n    .dataframe tbody tr th:only-of-type {\n        vertical-align: middle;\n    }\n\n    .dataframe tbody tr th {\n        vertical-align: top;\n    }\n\n    .dataframe thead th {\n        text-align: right;\n    }\n</style>\n<table border=\"1\" class=\"dataframe\">\n  <thead>\n    <tr style=\"text-align: right;\">\n      <th></th>\n      <th>open</th>\n      <th>high</th>\n      <th>low</th>\n      <th>close</th>\n      <th>volume</th>\n    </tr>\n  </thead>\n  <tbody>\n    <tr>\n      <th>count</th>\n      <td>1259.000000</td>\n      <td>1259.000000</td>\n      <td>1259.000000</td>\n      <td>1259.000000</td>\n      <td>1.259000e+03</td>\n    </tr>\n    <tr>\n      <th>mean</th>\n      <td>132.439631</td>\n      <td>133.818297</td>\n      <td>131.036025</td>\n      <td>132.433463</td>\n      <td>1.078043e+06</td>\n    </tr>\n    <tr>\n      <th>std</th>\n      <td>31.269628</td>\n      <td>31.545809</td>\n      <td>30.968405</td>\n      <td>31.274463</td>\n      <td>1.019365e+06</td>\n    </tr>\n    <tr>\n      <th>min</th>\n      <td>76.040000</td>\n      <td>76.660000</td>\n      <td>75.623000</td>\n      <td>76.180000</td>\n      <td>1.307120e+05</td>\n    </tr>\n    <tr>\n      <th>25%</th>\n      <td>104.070000</td>\n      <td>105.724950</td>\n      <td>102.260000</td>\n      <td>104.440000</td>\n      <td>6.182010e+05</td>\n    </tr>\n    <tr>\n      <th>50%</th>\n      <td>141.150000</td>\n      <td>143.000000</td>\n      <td>139.405000</td>\n      <td>141.300000</td>\n      <td>8.491350e+05</td>\n    </tr>\n    <tr>\n      <th>75%</th>\n      <td>156.980000</td>\n      <td>158.270000</td>\n      <td>155.320000</td>\n      <td>156.730000</td>\n      <td>1.219762e+06</td>\n    </tr>\n    <tr>\n      <th>max</th>\n      <td>201.240000</td>\n      <td>201.240000</td>\n      <td>198.160000</td>\n      <td>200.380000</td>\n      <td>1.974952e+07</td>\n    </tr>\n  </tbody>\n</table>\n</div>"
          },
          "metadata": {}
        }
      ],
      "id": "3a169d99-df11-4ff7-9850-66625ad8975d"
    },
    {
      "cell_type": "code",
      "source": "X = list(df.iloc, [0]) \nY = list(df.iloc, [1]) \n  \nplt.bar(X, Y, color='g') \nplt.title(\"Students over 11 Years\") \nplt.xlabel(\"Years\") \nplt.ylabel(\"Number of Students\") \n  \n# Show the plot \nplt.show() ",
      "metadata": {
        "trusted": true
      },
      "execution_count": 32,
      "outputs": [
        {
          "ename": "<class 'TypeError'>",
          "evalue": "list expected at most 1 argument, got 2",
          "traceback": [
            "\u001b[0;31m---------------------------------------------------------------------------\u001b[0m",
            "\u001b[0;31mTypeError\u001b[0m                                 Traceback (most recent call last)",
            "Cell \u001b[0;32mIn[32], line 1\u001b[0m\n\u001b[0;32m----> 1\u001b[0m X \u001b[38;5;241m=\u001b[39m \u001b[38;5;28;43mlist\u001b[39;49m\u001b[43m(\u001b[49m\u001b[43mdf\u001b[49m\u001b[38;5;241;43m.\u001b[39;49m\u001b[43miloc\u001b[49m\u001b[43m,\u001b[49m\u001b[43m \u001b[49m\u001b[43m[\u001b[49m\u001b[38;5;241;43m0\u001b[39;49m\u001b[43m]\u001b[49m\u001b[43m)\u001b[49m \n\u001b[1;32m      2\u001b[0m Y \u001b[38;5;241m=\u001b[39m \u001b[38;5;28mlist\u001b[39m(df\u001b[38;5;241m.\u001b[39miloc, [\u001b[38;5;241m1\u001b[39m]) \n\u001b[1;32m      4\u001b[0m plt\u001b[38;5;241m.\u001b[39mbar(X, Y, color\u001b[38;5;241m=\u001b[39m\u001b[38;5;124m'\u001b[39m\u001b[38;5;124mg\u001b[39m\u001b[38;5;124m'\u001b[39m) \n",
            "\u001b[0;31mTypeError\u001b[0m: list expected at most 1 argument, got 2"
          ],
          "output_type": "error"
        }
      ],
      "id": "19bffdb2-5648-4097-aa81-2c8144b0427e"
    },
    {
      "cell_type": "code",
      "source": "",
      "metadata": {},
      "execution_count": null,
      "outputs": [],
      "id": "725bb085-58ab-4d2d-8925-6f0bc29a1c7b"
    },
    {
      "cell_type": "code",
      "source": "",
      "metadata": {},
      "execution_count": null,
      "outputs": [],
      "id": "09796062-480f-4192-8815-1943af3b5592"
    },
    {
      "cell_type": "code",
      "source": "",
      "metadata": {},
      "execution_count": null,
      "outputs": [],
      "id": "59ad1f6d-9b91-438d-8833-93e2a807b3ee"
    }
  ]
}